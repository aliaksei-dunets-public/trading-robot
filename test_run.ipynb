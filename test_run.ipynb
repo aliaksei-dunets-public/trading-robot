{
 "cells": [
  {
   "cell_type": "code",
   "execution_count": 1,
   "metadata": {},
   "outputs": [],
   "source": [
    "import app.model.models as model\n",
    "import app.model.enums as enum\n",
    "from app.handler.handlers import HistoryDataHandler\n",
    "\n",
    "hd_handler = HistoryDataHandler(trader_id=\"66fc70bbb332fedc52ee46b2\")\n",
    "\n",
    "hd_param_mdl = model.HistoryDataParamModel(symbol='BTC/USD_LEVERAGE', interval=enum.IntervalEnum.HOUR_1, limit=20)"
   ]
  },
  {
   "cell_type": "code",
   "execution_count": 2,
   "metadata": {},
   "outputs": [
    {
     "name": "stderr",
     "output_type": "stream",
     "text": [
      "2024-10-08 00:13:39,635 - INFO - HTTP Request: GET https://demo-api-adapter.backend.currency.com/api/v2/klines?symbol=BTC%2FUSD_LEVERAGE&interval=&limit=20&endTime= \"HTTP/1.1 400 \"\n",
      "2024-10-08 00:13:55,567 - ERROR - [RequestAsync]: GET - https://demo-api-adapter.backend.currency.com/api/v2/klines({'symbol': 'BTC/USD_LEVERAGE', 'interval': None, 'limit': 20, 'endTime': None}) -> {\"code\":-1128,\"msg\":\"Invalid interval parameter\"}\n"
     ]
    },
    {
     "ename": "ExceptionApi",
     "evalue": "[RequestAsync]: GET - https://demo-api-adapter.backend.currency.com/api/v2/klines({'symbol': 'BTC/USD_LEVERAGE', 'interval': None, 'limit': 20, 'endTime': None}) -> {\"code\":-1128,\"msg\":\"Invalid interval parameter\"}",
     "output_type": "error",
     "traceback": [
      "\u001b[1;31m---------------------------------------------------------------------------\u001b[0m",
      "\u001b[1;31mExceptionApi\u001b[0m                              Traceback (most recent call last)",
      "Cell \u001b[1;32mIn[2], line 1\u001b[0m\n\u001b[1;32m----> 1\u001b[0m hd_mdl \u001b[38;5;241m=\u001b[39m \u001b[38;5;28;01mawait\u001b[39;00m hd_handler\u001b[38;5;241m.\u001b[39mget_history_data(hd_param\u001b[38;5;241m=\u001b[39mhd_param_mdl)\n",
      "File \u001b[1;32mc:\\Users\\Aliaksei_Dunets\\Documents\\Projects\\Technical\\Python\\TradingRobot\\app\\handler\\handlers.py:373\u001b[0m, in \u001b[0;36mHistoryDataHandler.get_history_data\u001b[1;34m(self, hd_param, **kwargs)\u001b[0m\n\u001b[0;32m    370\u001b[0m \u001b[38;5;66;03m# If history data from the buffer doesn't exist\u001b[39;00m\n\u001b[0;32m    371\u001b[0m \u001b[38;5;28;01mif\u001b[39;00m \u001b[38;5;129;01mnot\u001b[39;00m hd_mdl:\n\u001b[0;32m    372\u001b[0m     \u001b[38;5;66;03m# Send a request to an API to get history data\u001b[39;00m\n\u001b[1;32m--> 373\u001b[0m     hd_mdl \u001b[38;5;241m=\u001b[39m \u001b[38;5;28;01mawait\u001b[39;00m api\u001b[38;5;241m.\u001b[39mget_history_data(hd_param\u001b[38;5;241m=\u001b[39mhd_param)\n\u001b[0;32m    375\u001b[0m     \u001b[38;5;66;03m# Set fetched history data to the buffer if it's required\u001b[39;00m\n\u001b[0;32m    376\u001b[0m     \u001b[38;5;28;01mif\u001b[39;00m hd_param\u001b[38;5;241m.\u001b[39mbuffer:\n",
      "File \u001b[1;32mc:\\Users\\Aliaksei_Dunets\\Documents\\Projects\\Technical\\Python\\TradingRobot\\app\\api\\common.py:126\u001b[0m, in \u001b[0;36mApiBase.get_history_data\u001b[1;34m(self, hd_param, **kwargs)\u001b[0m\n\u001b[0;32m    124\u001b[0m \u001b[38;5;28;01mif\u001b[39;00m rest_of_limit \u001b[38;5;241m>\u001b[39m \u001b[38;5;241m0\u001b[39m:\n\u001b[0;32m    125\u001b[0m     hd_param\u001b[38;5;241m.\u001b[39mset_limit(rest_of_limit)\n\u001b[1;32m--> 126\u001b[0m     batch_history_data \u001b[38;5;241m=\u001b[39m \u001b[38;5;28;01mawait\u001b[39;00m \u001b[38;5;28mself\u001b[39m\u001b[38;5;241m.\u001b[39m_get_history_dataframe(\n\u001b[0;32m    127\u001b[0m         hd_param\u001b[38;5;241m=\u001b[39mhd_param,\n\u001b[0;32m    128\u001b[0m         end\u001b[38;5;241m=\u001b[39m\u001b[38;5;28mself\u001b[39m\u001b[38;5;241m.\u001b[39mgetUnixTimeMsByDatetime(closed_datetime),\n\u001b[0;32m    129\u001b[0m     )\n\u001b[0;32m    131\u001b[0m     df \u001b[38;5;241m=\u001b[39m pd\u001b[38;5;241m.\u001b[39mconcat([df, batch_history_data])\n\u001b[0;32m    133\u001b[0m \u001b[38;5;66;03m# Create HistoryDataModel\u001b[39;00m\n",
      "File \u001b[1;32mc:\\Users\\Aliaksei_Dunets\\Documents\\Projects\\Technical\\Python\\TradingRobot\\app\\api\\dzengi_com.py:145\u001b[0m, in \u001b[0;36mApiDzengiCom._get_history_dataframe\u001b[1;34m(self, hd_param, start, end, **kwargs)\u001b[0m\n\u001b[0;32m    133\u001b[0m url_params \u001b[38;5;241m=\u001b[39m {\n\u001b[0;32m    134\u001b[0m     consts\u001b[38;5;241m.\u001b[39mMODEL_FIELD_SYMBOL: hd_param\u001b[38;5;241m.\u001b[39msymbol,\n\u001b[0;32m    135\u001b[0m     consts\u001b[38;5;241m.\u001b[39mMODEL_FIELD_INTERVAL: \u001b[38;5;28mself\u001b[39m\u001b[38;5;241m.\u001b[39m_map_interval(interval\u001b[38;5;241m=\u001b[39mhd_param\u001b[38;5;241m.\u001b[39minterval),\n\u001b[0;32m    136\u001b[0m     consts\u001b[38;5;241m.\u001b[39mMODEL_FIELD_LIMIT: hd_param\u001b[38;5;241m.\u001b[39mlimit,\n\u001b[0;32m    137\u001b[0m     \u001b[38;5;28mself\u001b[39m\u001b[38;5;241m.\u001b[39mAPI_FLD_END_TIME: end,\n\u001b[0;32m    138\u001b[0m }\n\u001b[0;32m    140\u001b[0m \u001b[38;5;66;03m# Importing parameters price_type: bid, ask\u001b[39;00m\n\u001b[0;32m    141\u001b[0m \u001b[38;5;66;03m# price_type = kwargs.get(Const.FLD_PRICE_TYPE, self.PRICE_TYPE_BID)\u001b[39;00m\n\u001b[0;32m    142\u001b[0m \u001b[38;5;66;03m# url_params[Const.API_FLD_PRICE_TYPE] = price_type\u001b[39;00m\n\u001b[0;32m    143\u001b[0m \n\u001b[0;32m    144\u001b[0m \u001b[38;5;66;03m# Get History Data from API\u001b[39;00m\n\u001b[1;32m--> 145\u001b[0m response_json \u001b[38;5;241m=\u001b[39m \u001b[38;5;28;01mawait\u001b[39;00m \u001b[38;5;28mself\u001b[39m\u001b[38;5;241m.\u001b[39m_request_async\u001b[38;5;241m.\u001b[39mget(\u001b[38;5;28mself\u001b[39m\u001b[38;5;241m.\u001b[39m_get_url(\u001b[38;5;28mself\u001b[39m\u001b[38;5;241m.\u001b[39mKLINES_DATA_ENDPOINT), params\u001b[38;5;241m=\u001b[39murl_params)\n\u001b[0;32m    147\u001b[0m \u001b[38;5;66;03m# Convert API response to the DataFrame with columns: 'Datetime', 'Open', 'High', 'Low', 'Close', 'Volume'\u001b[39;00m\n\u001b[0;32m    148\u001b[0m df \u001b[38;5;241m=\u001b[39m pd\u001b[38;5;241m.\u001b[39mDataFrame(\n\u001b[0;32m    149\u001b[0m     response_json,\n\u001b[0;32m    150\u001b[0m     columns\u001b[38;5;241m=\u001b[39m[\n\u001b[1;32m   (...)\u001b[0m\n\u001b[0;32m    157\u001b[0m     ],\n\u001b[0;32m    158\u001b[0m )\n",
      "File \u001b[1;32mc:\\Users\\Aliaksei_Dunets\\Documents\\Projects\\Technical\\Python\\TradingRobot\\app\\api\\common.py:32\u001b[0m, in \u001b[0;36mRequestAsync.get\u001b[1;34m(self, url, params)\u001b[0m\n\u001b[0;32m     29\u001b[0m message \u001b[38;5;241m=\u001b[39m \u001b[38;5;124mf\u001b[39m\u001b[38;5;124m\"\u001b[39m\u001b[38;5;124m[\u001b[39m\u001b[38;5;132;01m{\u001b[39;00m\n\u001b[0;32m     30\u001b[0m \u001b[38;5;250m    \u001b[39m\u001b[38;5;28mself\u001b[39m\u001b[38;5;241m.\u001b[39m\u001b[38;5;18m__class__\u001b[39m\u001b[38;5;241m.\u001b[39m\u001b[38;5;18m__name__\u001b[39m\u001b[38;5;132;01m}\u001b[39;00m\u001b[38;5;124m]: GET - \u001b[39m\u001b[38;5;132;01m{\u001b[39;00murl\u001b[38;5;132;01m}\u001b[39;00m\u001b[38;5;124m(\u001b[39m\u001b[38;5;132;01m{\u001b[39;00mparams\u001b[38;5;132;01m}\u001b[39;00m\u001b[38;5;124m) -> \u001b[39m\u001b[38;5;132;01m{\u001b[39;00mresponse\u001b[38;5;241m.\u001b[39mtext\u001b[38;5;132;01m}\u001b[39;00m\u001b[38;5;124m\"\u001b[39m\n\u001b[0;32m     31\u001b[0m logger\u001b[38;5;241m.\u001b[39merror(message)\n\u001b[1;32m---> 32\u001b[0m \u001b[38;5;28;01mraise\u001b[39;00m ExceptionApi(message)\n",
      "\u001b[1;31mExceptionApi\u001b[0m: [RequestAsync]: GET - https://demo-api-adapter.backend.currency.com/api/v2/klines({'symbol': 'BTC/USD_LEVERAGE', 'interval': None, 'limit': 20, 'endTime': None}) -> {\"code\":-1128,\"msg\":\"Invalid interval parameter\"}"
     ]
    }
   ],
   "source": [
    "hd_mdl = await hd_handler.get_history_data(hd_param=hd_param_mdl)"
   ]
  }
 ],
 "metadata": {
  "kernelspec": {
   "display_name": "env",
   "language": "python",
   "name": "python3"
  },
  "language_info": {
   "codemirror_mode": {
    "name": "ipython",
    "version": 3
   },
   "file_extension": ".py",
   "mimetype": "text/x-python",
   "name": "python",
   "nbconvert_exporter": "python",
   "pygments_lexer": "ipython3",
   "version": "3.12.4"
  }
 },
 "nbformat": 4,
 "nbformat_minor": 2
}
